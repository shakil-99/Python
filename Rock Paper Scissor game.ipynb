{
 "cells": [
  {
   "cell_type": "code",
   "execution_count": 1,
   "metadata": {},
   "outputs": [
    {
     "name": "stdout",
     "output_type": "stream",
     "text": [
      "please choose from the following:-\n",
      "rock=1\n",
      "paper=2\n",
      "scissor=3\n",
      "Enter your response:-2\n",
      "Enter your response:-3\n",
      "Enter your response:-1\n",
      "Enter your response:-3\n",
      "Enter your response:-2\n",
      "0 2 3\n",
      "well played\n",
      "sorry, you lose, better luck next time\n"
     ]
    }
   ],
   "source": [
    "print(\"please choose from the following:-\")\n",
    "print(\"rock=1\")\n",
    "print(\"paper=2\")\n",
    "print(\"scissor=3\")\n",
    "ans=\"well played\"\n",
    "w=0\n",
    "l=0\n",
    "d=0\n",
    "for i in range(0,5):\n",
    "    rps=int(input(\"Enter your response:-\"))\n",
    "    from random import randint\n",
    "    x = randint(1,3)\n",
    "    if(rps==1):\n",
    "        if(x==1):\n",
    "            d=d+1\n",
    "        elif(x==2):\n",
    "            l=l+1\n",
    "        else:\n",
    "            w=w+1\n",
    "    elif(rps==2):\n",
    "        if(x==2):\n",
    "            d=d+1\n",
    "        elif(x==3):\n",
    "            l=l+1\n",
    "        else:\n",
    "            w=w+1\n",
    "    elif(rps==3):\n",
    "        if(x==3):\n",
    "            d=d+1\n",
    "        elif(x==1):\n",
    "            l=l+1\n",
    "        else:\n",
    "            w=w+1\n",
    "    else:\n",
    "        ans=\"dont cheat, use 1,2,3 only\"\n",
    "print(w, l, d)\n",
    "print(ans)\n",
    "if(w>l):\n",
    "    print(\"you win, CONGRATULATIONS\")\n",
    "elif(w<l):\n",
    "    print(\"sorry, you lose, better luck next time\")\n",
    "else:\n",
    "    print(\"seems we are both equally well players\")\n",
    "    "
   ]
  },
  {
   "cell_type": "code",
   "execution_count": null,
   "metadata": {},
   "outputs": [],
   "source": []
  }
 ],
 "metadata": {
  "kernelspec": {
   "display_name": "Python 3",
   "language": "python",
   "name": "python3"
  },
  "language_info": {
   "codemirror_mode": {
    "name": "ipython",
    "version": 3
   },
   "file_extension": ".py",
   "mimetype": "text/x-python",
   "name": "python",
   "nbconvert_exporter": "python",
   "pygments_lexer": "ipython3",
   "version": "3.8.3"
  }
 },
 "nbformat": 4,
 "nbformat_minor": 2
}
